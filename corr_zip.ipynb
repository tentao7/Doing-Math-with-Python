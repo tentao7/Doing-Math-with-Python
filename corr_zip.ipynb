{
 "cells": [
  {
   "cell_type": "markdown",
   "metadata": {},
   "source": [
    "**zip() : \n",
    "The zip() function returns pairs of the corresponding elements in x\n",
    "and y, which you can then use in a loop to perform other operations (like\n",
    "printing, as shown in the preceding code)."
   ]
  },
  {
   "cell_type": "code",
   "execution_count": 5,
   "metadata": {},
   "outputs": [
    {
     "name": "stdout",
     "output_type": "stream",
     "text": [
      "1 4\n",
      "2 5\n",
      "3 6\n"
     ]
    }
   ],
   "source": [
    "simple_list1 = [1, 2, 3]\n",
    "simple_list2 = [4, 5, 6]\n",
    "for x, y in zip(simple_list1, simple_list2):\n",
    "    print(x,y)"
   ]
  },
  {
   "cell_type": "markdown",
   "metadata": {},
   "source": [
    " ** Calculating the correlation coefficient\n",
    " corr = {n(Sigma)xy - (sigma)x(sigma)y}/sqrt{(n(sig)x^2-((sig)x)^2)(.......) "
   ]
  },
  {
   "cell_type": "code",
   "execution_count": 6,
   "metadata": {},
   "outputs": [],
   "source": [
    "def find_corr_x_y(x,y):\n",
    "    n = len(x)\n",
    "    \n",
    "    #find the sum of the products\n",
    "    prod = []\n",
    "    for xi, yi in zip(x, y):\n",
    "        prod.append(xi*yi)\n",
    "        \n",
    "    sum_prod_x_y = sum(prod)\n",
    "    sum_x = sum(x)\n",
    "    sum_y = sum(y)\n",
    "    squared_sum_x = sum_x**2 #squares of the sum of the element in x\n",
    "    squared_sum_y = sum_y**2\n",
    "    \n",
    "    s_square =[]\n",
    "    for xi in x: \n",
    "        x_square.append(xi**2)\n",
    "        #  Find the sum\n",
    "        x_square_sum = sum(x_square)\n",
    "        \n",
    "        y_square = []\n",
    "        for yi in y:\n",
    "            y_square.append(yi**2)\n",
    "            # Find the sum\n",
    "            y_square_sum = sum (y_square)\n",
    "\n",
    "        # Use formula fo calculate correlation \n",
    "        numerator = n*sum_prod_x_y-sum_x*sum_y\n",
    "        denominator_term1 = n*x_square_sum - squared_sum_x\n",
    "        demominator_term2 = n*y_square_sum - squared_sum_y\n",
    "        \n",
    "        denominator = (denominator_term1*denominator_term2)**0.5\n",
    "        \n",
    "        return correlation\n",
    "    \n",
    "    "
   ]
  },
  {
   "cell_type": "code",
   "execution_count": null,
   "metadata": {},
   "outputs": [],
   "source": []
  }
 ],
 "metadata": {
  "kernelspec": {
   "display_name": "Python 3",
   "language": "python",
   "name": "python3"
  },
  "language_info": {
   "codemirror_mode": {
    "name": "ipython",
    "version": 3
   },
   "file_extension": ".py",
   "mimetype": "text/x-python",
   "name": "python",
   "nbconvert_exporter": "python",
   "pygments_lexer": "ipython3",
   "version": "3.7.0"
  }
 },
 "nbformat": 4,
 "nbformat_minor": 2
}
